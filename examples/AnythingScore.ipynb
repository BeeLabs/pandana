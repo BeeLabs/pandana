{
 "metadata": {
  "name": "",
  "signature": "sha256:7532b98cbf62d310076fff7854024299ea3071a82bfbad1cceedd14e8131a547"
 },
 "nbformat": 3,
 "nbformat_minor": 0,
 "worksheets": [
  {
   "cells": [
    {
     "cell_type": "code",
     "collapsed": false,
     "input": [
      "%load_ext autoreload\n",
      "%autoreload 2\n",
      "import pandas as pd\n",
      "import numpy as np\n",
      "import pandana as pdna\n",
      "from pandana import utils\n",
      "import geopandas.io.osm as osm\n",
      "%matplotlib inline"
     ],
     "language": "python",
     "metadata": {},
     "outputs": []
    },
    {
     "cell_type": "heading",
     "level": 2,
     "metadata": {},
     "source": [
      "Read in the network and initialize"
     ]
    },
    {
     "cell_type": "code",
     "collapsed": false,
     "input": [
      "store = pd.HDFStore('data/osm_bayarea.h5', \"r\")\n",
      "net=pdna.Network(store.nodes[\"x\"], \n",
      "                 store.nodes[\"y\"], \n",
      "                 store.edges[\"from\"], \n",
      "                 store.edges[\"to\"], \n",
      "                 store.edges[[\"weight\"]])\n",
      "\n",
      "# make sure you have enough categories for your score\n",
      "net.init_pois(num_categories=10, max_dist=2400, max_pois=10)\n",
      "\n",
      "bbox = [-122.8662,37.1373,-121.4798,38.2158] # san francisco"
     ],
     "language": "python",
     "metadata": {},
     "outputs": []
    },
    {
     "cell_type": "heading",
     "level": 2,
     "metadata": {},
     "source": [
      "Make a decay function"
     ]
    },
    {
     "cell_type": "code",
     "collapsed": false,
     "input": [
      "from scipy.special import expit\n",
      "def dist_to_contrib(dist):\n",
      "    dist = dist.astype('float') / 2400 # now varies from 0 to 1\n",
      "    dist = (dist * -10) + 5\n",
      "    return expit(dist)"
     ],
     "language": "python",
     "metadata": {},
     "outputs": []
    },
    {
     "cell_type": "heading",
     "level": 2,
     "metadata": {},
     "source": [
      "Create an anything score"
     ]
    },
    {
     "cell_type": "code",
     "collapsed": false,
     "input": [
      "s = utils.anything_score(\n",
      "    net,\n",
      "    {\n",
      "        \"shop=supermarket\": [3.0],\n",
      "        \"amenity=restaurant\": [.75, .45, .25, .25, .225, .225, .225, .225, .2, .2],\n",
      "        \"shop=convenience\": [.5, .45, .4, .35, .3],\n",
      "        \"amenity=cafe\": [1.25, .75],\n",
      "        \"amenity=bank\": [1.0],\n",
      "        \"leisure=park\": [1.0],\n",
      "        \"amenity=school\": [1.0],\n",
      "        \"amenity=library\": [1.0],\n",
      "        \"amenity=bar\": [1.0]\n",
      "    },\n",
      "    2400,\n",
      "    dist_to_contrib, # decay function to apply to distance\n",
      "    bbox\n",
      ")\n",
      "print s.describe() "
     ],
     "language": "python",
     "metadata": {},
     "outputs": []
    },
    {
     "cell_type": "heading",
     "level": 2,
     "metadata": {},
     "source": [
      "See it"
     ]
    },
    {
     "cell_type": "code",
     "collapsed": false,
     "input": [
      "out_bbox = utils.bbox_convert([-122.539365,37.693047,-122.347698,37.816069], \n",
      "                              from_epsg=4326, to_epsg=3740)\n",
      "net.plot(s, bbox=out_bbox, scheme=\"diverging\", color=\"BrBG\")"
     ],
     "language": "python",
     "metadata": {},
     "outputs": []
    },
    {
     "cell_type": "code",
     "collapsed": false,
     "input": [],
     "language": "python",
     "metadata": {},
     "outputs": []
    }
   ],
   "metadata": {}
  }
 ]
}