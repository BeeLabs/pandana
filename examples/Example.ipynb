{
 "metadata": {
  "name": "",
  "signature": "sha256:b761890efa92ab55edfbf2425340e80dee066f572c7a58c1b0c359d2d9def445"
 },
 "nbformat": 3,
 "nbformat_minor": 0,
 "worksheets": [
  {
   "cells": [
    {
     "cell_type": "heading",
     "level": 2,
     "metadata": {
      "slideshow": {
       "slide_type": "skip"
      }
     },
     "source": [
      "Output has been removed from this notebook to reduce file sizes in the repo"
     ]
    },
    {
     "cell_type": "code",
     "collapsed": false,
     "input": [
      "%load_ext autoreload\n",
      "%autoreload 2\n",
      "import pandas as pd\n",
      "import numpy as np\n",
      "import pandana as pdna\n",
      "import geopandas.io.osm as osm\n",
      "%matplotlib inline"
     ],
     "language": "python",
     "metadata": {
      "slideshow": {
       "slide_type": "skip"
      }
     },
     "outputs": []
    },
    {
     "cell_type": "heading",
     "level": 2,
     "metadata": {
      "slideshow": {
       "slide_type": "slide"
      }
     },
     "source": [
      "Download OpenStreetMap restaurants for a good part of the Bay Area"
     ]
    },
    {
     "cell_type": "heading",
     "level": 6,
     "metadata": {
      "slideshow": {
       "slide_type": "fragment"
      }
     },
     "source": [
      "Note: used http://boundingbox.klokantech.com/ to get the bounding box"
     ]
    },
    {
     "cell_type": "code",
     "collapsed": false,
     "input": [
      "gdf = osm.query_osm('node', \n",
      "                    bbox=[-122.8662,37.1373,-121.4798,38.2158],\n",
      "                    tags='amenity=restaurant')"
     ],
     "language": "python",
     "metadata": {
      "slideshow": {
       "slide_type": "fragment"
      }
     },
     "outputs": []
    },
    {
     "cell_type": "code",
     "collapsed": false,
     "input": [
      "gdf = gdf[gdf.type == 'Point'].to_crs(epsg=3740)\n",
      "print gdf.geometry.head(3)\n",
      "print len(gdf)"
     ],
     "language": "python",
     "metadata": {
      "slideshow": {
       "slide_type": "fragment"
      }
     },
     "outputs": []
    },
    {
     "cell_type": "code",
     "collapsed": false,
     "input": [
      "x, y = zip(*[(p.x, p.y) for (i, p) \n",
      "             in gdf.geometry.iteritems()])\n",
      "x = pd.Series(x)\n",
      "y = pd.Series(y)"
     ],
     "language": "python",
     "metadata": {
      "slideshow": {
       "slide_type": "fragment"
      }
     },
     "outputs": []
    },
    {
     "cell_type": "heading",
     "level": 2,
     "metadata": {
      "slideshow": {
       "slide_type": "slide"
      }
     },
     "source": [
      "Get OpenStreetMap networks for Bay Area that I had previously - someday soon we'll have direct OSM import"
     ]
    },
    {
     "cell_type": "code",
     "collapsed": false,
     "input": [
      "store = pd.HDFStore('data/osm_bayarea.h5', \"r\")\n",
      "nodes = store.nodes\n",
      "edges = store.edges\n",
      "print nodes.head(3)\n",
      "print edges.head(3)"
     ],
     "language": "python",
     "metadata": {
      "slideshow": {
       "slide_type": "fragment"
      }
     },
     "outputs": []
    },
    {
     "cell_type": "heading",
     "level": 2,
     "metadata": {
      "slideshow": {
       "slide_type": "slide"
      }
     },
     "source": [
      "Initialize and preprocess the network"
     ]
    },
    {
     "cell_type": "code",
     "collapsed": false,
     "input": [
      "net=pdna.Network(nodes.x, \n",
      "                       nodes.y, \n",
      "                       edges[\"from\"], \n",
      "                       edges.to, \n",
      "                       edges[[\"weight\"]])\n",
      "net.precompute(3000)"
     ],
     "language": "python",
     "metadata": {
      "slideshow": {
       "slide_type": "fragment"
      }
     },
     "outputs": []
    },
    {
     "cell_type": "heading",
     "level": 2,
     "metadata": {
      "slideshow": {
       "slide_type": "slide"
      }
     },
     "source": [
      "Nearest *point-of-interest* queries"
     ]
    },
    {
     "cell_type": "code",
     "collapsed": false,
     "input": [
      "net.init_pois(num_categories=1, max_dist=2000, max_pois=10)"
     ],
     "language": "python",
     "metadata": {
      "slideshow": {
       "slide_type": "fragment"
      }
     },
     "outputs": []
    },
    {
     "cell_type": "code",
     "collapsed": false,
     "input": [
      "net.set_pois(\"restaurants\", x, y)"
     ],
     "language": "python",
     "metadata": {
      "slideshow": {
       "slide_type": "fragment"
      }
     },
     "outputs": []
    },
    {
     "cell_type": "code",
     "collapsed": false,
     "input": [
      "a = net.nearest_pois(2000, \"restaurants\", num_pois=10)\n",
      "print a.head(1)"
     ],
     "language": "python",
     "metadata": {
      "slideshow": {
       "slide_type": "fragment"
      }
     },
     "outputs": []
    },
    {
     "cell_type": "code",
     "collapsed": false,
     "input": [
      "from shapely.geometry import Point\n",
      "from fiona.crs import from_epsg\n",
      "import geopandas as gpd\n",
      "bbox=[-122.539365,37.693047,-122.347698,37.816069]\n",
      "bbox = gpd.GeoSeries([Point(bbox[0], bbox[1]),\n",
      "                      Point(bbox[2], bbox[3])], \n",
      "                     crs=from_epsg(4326))\n",
      "bbox = bbox.to_crs(epsg=3740)\n",
      "bbox = [bbox[0].x, bbox[0].y, bbox[1].x, bbox[1].y]"
     ],
     "language": "python",
     "metadata": {
      "slideshow": {
       "slide_type": "skip"
      }
     },
     "outputs": []
    },
    {
     "cell_type": "heading",
     "level": 2,
     "metadata": {
      "slideshow": {
       "slide_type": "slide"
      }
     },
     "source": [
      "Here's a map of the distance to the nearest restaurant"
     ]
    },
    {
     "cell_type": "code",
     "collapsed": false,
     "input": [
      "net.plot(a[1], bbox=bbox, scheme=\"diverging\", \n",
      "         color=\"BrBG\")"
     ],
     "language": "python",
     "metadata": {
      "slideshow": {
       "slide_type": "fragment"
      }
     },
     "outputs": []
    },
    {
     "cell_type": "heading",
     "level": 2,
     "metadata": {
      "slideshow": {
       "slide_type": "slide"
      }
     },
     "source": [
      "Here's a map of the distance to the 5th nearest restaurant"
     ]
    },
    {
     "cell_type": "code",
     "collapsed": false,
     "input": [
      "net.plot(a[5], bbox=bbox, scheme=\"diverging\", \n",
      "         color=\"BrBG\")"
     ],
     "language": "python",
     "metadata": {
      "slideshow": {
       "slide_type": "fragment"
      }
     },
     "outputs": []
    },
    {
     "cell_type": "heading",
     "level": 2,
     "metadata": {
      "slideshow": {
       "slide_type": "slide"
      }
     },
     "source": [
      "Here's a map of the distance to the 10th nearest restaurant"
     ]
    },
    {
     "cell_type": "code",
     "collapsed": false,
     "input": [
      "net.plot(a[10], bbox=bbox, scheme=\"diverging\", \n",
      "         color=\"BrBG\")"
     ],
     "language": "python",
     "metadata": {
      "slideshow": {
       "slide_type": "fragment"
      }
     },
     "outputs": []
    },
    {
     "cell_type": "heading",
     "level": 1,
     "metadata": {
      "slideshow": {
       "slide_type": "slide"
      }
     },
     "source": [
      "A similar workflow is used to do general network aggregations"
     ]
    },
    {
     "cell_type": "heading",
     "level": 2,
     "metadata": {
      "slideshow": {
       "slide_type": "slide"
      }
     },
     "source": [
      "Relate the x-ys to nodes"
     ]
    },
    {
     "cell_type": "code",
     "collapsed": false,
     "input": [
      "node_ids = net.get_node_ids(x, y)"
     ],
     "language": "python",
     "metadata": {
      "slideshow": {
       "slide_type": "fragment"
      }
     },
     "outputs": []
    },
    {
     "cell_type": "heading",
     "level": 2,
     "metadata": {
      "slideshow": {
       "slide_type": "subslide"
      }
     },
     "source": [
      "Assign the variable (in this case just location) to the network"
     ]
    },
    {
     "cell_type": "code",
     "collapsed": false,
     "input": [
      "net.set(node_ids)"
     ],
     "language": "python",
     "metadata": {
      "slideshow": {
       "slide_type": "fragment"
      }
     },
     "outputs": []
    },
    {
     "cell_type": "heading",
     "level": 2,
     "metadata": {
      "slideshow": {
       "slide_type": "subslide"
      }
     },
     "source": [
      "This is it - run the queries!"
     ]
    },
    {
     "cell_type": "code",
     "collapsed": false,
     "input": [
      "%time s = net.aggregate(500, type=\"sum\", decay=\"linear\")\n",
      "%time t = net.aggregate(1000, type=\"sum\", decay=\"linear\")\n",
      "%time u = net.aggregate(2000, type=\"sum\", decay=\"linear\")\n",
      "%time v = net.aggregate(3000, type=\"sum\", decay=\"linear\")\n",
      "%time w = net.aggregate(3000, type=\"count\", decay=\"flat\")"
     ],
     "language": "python",
     "metadata": {
      "slideshow": {
       "slide_type": "fragment"
      }
     },
     "outputs": []
    },
    {
     "cell_type": "heading",
     "level": 2,
     "metadata": {
      "slideshow": {
       "slide_type": "slide"
      }
     },
     "source": [
      "Here's a map of access to restaurants with a 500m radius"
     ]
    },
    {
     "cell_type": "code",
     "collapsed": false,
     "input": [
      "net.plot(s, bbox=bbox, scheme=\"diverging\", \n",
      "         color=\"BrBG\", log_scale=True)"
     ],
     "language": "python",
     "metadata": {
      "slideshow": {
       "slide_type": "fragment"
      }
     },
     "outputs": []
    },
    {
     "cell_type": "heading",
     "level": 2,
     "metadata": {
      "slideshow": {
       "slide_type": "slide"
      }
     },
     "source": [
      "Or 1000 meters"
     ]
    },
    {
     "cell_type": "code",
     "collapsed": false,
     "input": [
      "net.plot(t, bbox=bbox, scheme=\"diverging\", \n",
      "         color=\"BrBG\", log_scale=True)"
     ],
     "language": "python",
     "metadata": {
      "slideshow": {
       "slide_type": "fragment"
      }
     },
     "outputs": []
    },
    {
     "cell_type": "heading",
     "level": 2,
     "metadata": {
      "slideshow": {
       "slide_type": "slide"
      }
     },
     "source": [
      "Or 2000 meters radius"
     ]
    },
    {
     "cell_type": "code",
     "collapsed": false,
     "input": [
      "net.plot(u, bbox=bbox, scheme=\"diverging\", \n",
      "         color=\"BrBG\", log_scale=True)"
     ],
     "language": "python",
     "metadata": {
      "slideshow": {
       "slide_type": "fragment"
      }
     },
     "outputs": []
    },
    {
     "cell_type": "heading",
     "level": 2,
     "metadata": {
      "slideshow": {
       "slide_type": "slide"
      }
     },
     "source": [
      "Or 3000m radius"
     ]
    },
    {
     "cell_type": "code",
     "collapsed": false,
     "input": [
      "net.plot(v, bbox=bbox, scheme=\"diverging\", \n",
      "         color=\"BrBG\", log_scale=True)"
     ],
     "language": "python",
     "metadata": {
      "slideshow": {
       "slide_type": "fragment"
      }
     },
     "outputs": []
    },
    {
     "cell_type": "heading",
     "level": 2,
     "metadata": {
      "slideshow": {
       "slide_type": "slide"
      }
     },
     "source": [
      "Or the whole Bay Area region - someone please help me with this visualization!"
     ]
    },
    {
     "cell_type": "code",
     "collapsed": false,
     "input": [
      "net.plot(v, scheme=\"diverging\", \n",
      "         color=\"BrBG\", log_scale=True)"
     ],
     "language": "python",
     "metadata": {
      "slideshow": {
       "slide_type": "fragment"
      }
     },
     "outputs": []
    },
    {
     "cell_type": "code",
     "collapsed": false,
     "input": [],
     "language": "python",
     "metadata": {},
     "outputs": []
    }
   ],
   "metadata": {}
  }
 ]
}